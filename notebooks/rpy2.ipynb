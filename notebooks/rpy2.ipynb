{
 "cells": [
  {
   "cell_type": "markdown",
   "metadata": {},
   "source": [
    "# rpy2\n",
    "\n",
    "https://rpy2.github.io/doc/latest/html/introduction.html\n",
    "\n",
    "rpy2 provides 2 levels of interface with R: - low-level (rpy2.rinterface, and rpy2:rinterface_lib) - high-level (rpy2.robjects)"
   ]
  },
  {
   "cell_type": "code",
   "execution_count": 3,
   "metadata": {},
   "outputs": [
    {
     "name": "stdout",
     "output_type": "stream",
     "text": [
      "3.4.4\n"
     ]
    }
   ],
   "source": [
    "import pandas as pd\n",
    "import rpy2.robjects as robjects\n",
    "from rpy2.robjects import pandas2ri# Defining the R script and loading the instance in Python\n",
    "import rpy2\n",
    "print(rpy2.__version__)"
   ]
  },
  {
   "cell_type": "code",
   "execution_count": 4,
   "metadata": {},
   "outputs": [
    {
     "name": "stdout",
     "output_type": "stream",
     "text": [
      "rpy2 version:\n",
      "3.4.4\n",
      "Python version:\n",
      "3.8.5 (default, Sep  3 2020, 21:29:08) [MSC v.1916 64 bit (AMD64)]\n",
      "Looking for R's HOME:\n",
      "    Environment variable R_HOME: None\n",
      "    InstallPath in the registry: C:\\Program Files\\R\\R-4.0.5\n",
      "    Environment variable R_USER: None\n",
      "    Environment variable R_LIBS_USER: None\n",
      "R version:\n",
      "    In the PATH: \n",
      "    Loading R library from rpy2: OK\n",
      "Additional directories to load R packages from:\n",
      "None\n",
      "C extension compilation:\n",
      "    Warning: Unable to get R compilation flags.\n"
     ]
    }
   ],
   "source": [
    "import rpy2.situation\n",
    "for row in rpy2.situation.iter_info():\n",
    "    print(row)"
   ]
  },
  {
   "cell_type": "code",
   "execution_count": 5,
   "metadata": {},
   "outputs": [],
   "source": [
    "### importing the R package in the embedded R, and is exposing all R objects in that package as Python objects.\n",
    "\n",
    "from rpy2.robjects.packages import importr\n",
    "# import R's \"base\" package\n",
    "base = importr('base')\n",
    "\n",
    "# import R's \"utils\" package\n",
    "utils = importr('utils')"
   ]
  },
  {
   "cell_type": "markdown",
   "metadata": {},
   "source": [
    "Install additional R packages. The code can be part of Python code you distribute if you are relying on CRAN packages not distributed with R by default."
   ]
  },
  {
   "cell_type": "code",
   "execution_count": 19,
   "metadata": {},
   "outputs": [],
   "source": [
    "### Install a R package\n",
    "\n",
    "# import rpy2's package module\n",
    "import rpy2.robjects.packages as rpackages\n",
    "\n",
    "# import R's utility package\n",
    "utils = rpackages.importr('utils')\n",
    "\n",
    "# select a mirror for R packages\n",
    "utils.chooseCRANmirror(ind=1) \n",
    "\n",
    "# R package names\n",
    "packnames = ('ggplot2', 'ECoL')\n",
    "\n",
    "# R vector of strings\n",
    "from rpy2.robjects.vectors import StrVector\n",
    "\n",
    "# Selectively install what needs to be install.\n",
    "# We are fancy, just because we can.\n",
    "names_to_install = [x for x in packnames if not rpackages.isinstalled(x)]\n",
    "if len(names_to_install) > 0:\n",
    "    utils.install_packages(StrVector(names_to_install))"
   ]
  },
  {
   "cell_type": "markdown",
   "metadata": {},
   "source": [
    "Use robjects.r to interact with R"
   ]
  },
  {
   "cell_type": "code",
   "execution_count": 3,
   "metadata": {},
   "outputs": [
    {
     "data": {
      "text/html": [
       "\n",
       "    <span>FloatVector with 1 elements.</span>\n",
       "    <table>\n",
       "      <tbody>\n",
       "      <tr>\n",
       "      \n",
       "      <td>\n",
       "        3.141593\n",
       "      </td>\n",
       "      \n",
       "      </tr>\n",
       "      </tbody>\n",
       "    </table>\n",
       "    "
      ],
      "text/plain": [
       "R object with classes: ('numeric',) mapped to:\n",
       "<FloatVector - Python:0x00000278978FE908 / R:0x00000278978DA1A8>\n",
       "[3.141593]"
      ]
     },
     "execution_count": 3,
     "metadata": {},
     "output_type": "execute_result"
    }
   ],
   "source": [
    "pi = robjects.r['pi']\n",
    "pi"
   ]
  },
  {
   "cell_type": "code",
   "execution_count": 4,
   "metadata": {},
   "outputs": [
    {
     "data": {
      "text/plain": [
       "3.141592653589793"
      ]
     },
     "execution_count": 4,
     "metadata": {},
     "output_type": "execute_result"
    }
   ],
   "source": [
    "pi[0]"
   ]
  },
  {
   "cell_type": "code",
   "execution_count": 13,
   "metadata": {},
   "outputs": [
    {
     "data": {
      "text/html": [
       "\n",
       "    <span>FloatVector with 1 elements.</span>\n",
       "    <table>\n",
       "      <tbody>\n",
       "      <tr>\n",
       "      \n",
       "      <td>\n",
       "        18.849556\n",
       "      </td>\n",
       "      \n",
       "      </tr>\n",
       "      </tbody>\n",
       "    </table>\n",
       "    "
      ],
      "text/plain": [
       "R object with classes: ('numeric',) mapped to:\n",
       "<FloatVector - Python:0x0000027894859D08 / R:0x000002789AEE06D0>\n",
       "[18.849556]"
      ]
     },
     "execution_count": 13,
     "metadata": {},
     "output_type": "execute_result"
    }
   ],
   "source": [
    "robjects.r('''\n",
    "        # create a function `f`\n",
    "        f <- function(r, verbose=FALSE) {\n",
    "            if (verbose) {\n",
    "                cat(\"I am calling f().\\n\")\n",
    "            }\n",
    "            2 * pi * r\n",
    "        }\n",
    "        # call the function `f` with argument value 3\n",
    "        f(3)\n",
    "        ''')"
   ]
  },
  {
   "cell_type": "code",
   "execution_count": 17,
   "metadata": {},
   "outputs": [
    {
     "data": {
      "text/html": [
       "\n",
       "    <span>FloatVector with 1 elements.</span>\n",
       "    <table>\n",
       "      <tbody>\n",
       "      <tr>\n",
       "      \n",
       "      <td>\n",
       "        25.132741\n",
       "      </td>\n",
       "      \n",
       "      </tr>\n",
       "      </tbody>\n",
       "    </table>\n",
       "    "
      ],
      "text/plain": [
       "R object with classes: ('numeric',) mapped to:\n",
       "<FloatVector - Python:0x00000278982C99C8 / R:0x000002789AF89960>\n",
       "[25.132741]"
      ]
     },
     "execution_count": 17,
     "metadata": {},
     "output_type": "execute_result"
    }
   ],
   "source": [
    "r_f = robjects.r['f']\n",
    "r_f(4)"
   ]
  },
  {
   "cell_type": "markdown",
   "metadata": {},
   "source": [
    "Try ECoL\n",
    "\n",
    "In R Studio:\n",
    "\n",
    "    > library(\"ECoL\")\n",
    "    > complexity(iris[,1:3], iris[,5])\n",
    "     overlapping.F1.mean    overlapping.F1.sd overlapping.F1v.mean   overlapping.F1v.sd  overlapping.F2.mean \n",
    "             0.346379901          0.271980407          0.038708394          0.052046615          0.023931624 \n",
    "       overlapping.F2.sd  overlapping.F3.mean    overlapping.F3.sd  overlapping.F4.mean    overlapping.F4.sd \n",
    "             0.041450789          0.123333333          0.213619600          0.110000000          0.190525589 \n",
    "         neighborhood.N1 neighborhood.N2.mean   neighborhood.N2.sd neighborhood.N3.mean   neighborhood.N3.sd \n",
    "             0.173333333          0.238447518          0.192953453          0.086666667          0.282288506 \n",
    "    neighborhood.N4.mean   neighborhood.N4.sd neighborhood.T1.mean   neighborhood.T1.sd     neighborhood.LSC \n",
    "             0.046666667          0.211630508          0.031250000          0.061064335          0.856622222 \n",
    "       linearity.L1.mean      linearity.L1.sd    linearity.L2.mean      linearity.L2.sd    linearity.L3.mean \n",
    "             0.007050287          0.012211455          0.020000000          0.034641016          0.006666667 \n",
    "         linearity.L3.sd    dimensionality.T2    dimensionality.T3    dimensionality.T4           balance.C1 \n",
    "             0.011547005          0.020000000          0.013333333          0.666666667          1.000000000 \n",
    "              balance.C2      network.Density      network.ClsCoef    network.Hubs.mean      network.Hubs.sd \n",
    "             0.000000000          0.848769575          0.271609303          0.874332820          0.240090885 "
   ]
  },
  {
   "cell_type": "code",
   "execution_count": 9,
   "metadata": {},
   "outputs": [],
   "source": [
    "metrics = robjects.r('''\n",
    "        library(\"ECoL\", lib.loc = \"ECoL/R/\")\n",
    "        complexity(iris[,1:4], iris[,5])\n",
    "        ''')"
   ]
  },
  {
   "cell_type": "code",
   "execution_count": 10,
   "metadata": {},
   "outputs": [
    {
     "name": "stdout",
     "output_type": "stream",
     "text": [
      "overlapping.F1.mean :  0.2775641932566494\n",
      "overlapping.F1.sd :  0.2612622587707821\n",
      "overlapping.F1v.mean :  0.026799629786085757\n",
      "overlapping.F1v.sd :  0.0337704173653305\n",
      "overlapping.F2.mean :  0.006381766381766379\n",
      "overlapping.F2.sd :  0.011053543615254367\n",
      "overlapping.F3.mean :  0.12333333333333334\n",
      "overlapping.F3.sd :  0.21361959960016152\n",
      "overlapping.F4.mean :  0.043333333333333335\n",
      "overlapping.F4.sd :  0.07505553499465135\n",
      "neighborhood.N1 :  0.10666666666666667\n",
      "neighborhood.N2.mean :  0.19814444234467493\n",
      "neighborhood.N2.sd :  0.1466933405777466\n",
      "neighborhood.N3.mean :  0.06\n",
      "neighborhood.N3.sd :  0.23828244477915883\n",
      "neighborhood.N4.mean :  0.013333333333333334\n",
      "neighborhood.N4.sd :  0.11508191810497581\n",
      "neighborhood.T1.mean :  0.05555555555555556\n",
      "neighborhood.T1.sd :  0.09094996110409614\n",
      "neighborhood.LSC :  0.8164\n",
      "linearity.L1.mean :  0.0043356927104076055\n",
      "linearity.L1.sd :  0.007509640060431987\n",
      "linearity.L2.mean :  0.013333333333333345\n",
      "linearity.L2.sd :  0.023094010767585053\n",
      "linearity.L3.mean :  0.006666666666666672\n",
      "linearity.L3.sd :  0.011547005383792526\n",
      "dimensionality.T2 :  0.02666666666666667\n",
      "dimensionality.T3 :  0.013333333333333334\n",
      "dimensionality.T4 :  0.5\n",
      "balance.C1 :  0.9999999999999998\n",
      "balance.C2 :  0.0\n",
      "network.Density :  0.8332885906040268\n",
      "network.ClsCoef :  0.26797701971842847\n",
      "network.Hubs.mean :  0.8380508308705288\n",
      "network.Hubs.sd :  0.2753319371395067\n"
     ]
    }
   ],
   "source": [
    "idx = 0\n",
    "for v in metrics:\n",
    "    print(metrics.names[idx], \": \" ,v)\n",
    "    idx += 1"
   ]
  },
  {
   "cell_type": "markdown",
   "metadata": {},
   "source": [
    "Run this R code:\n",
    "\n",
    "    ctl <- c(4.17,5.58,5.18,6.11,4.50,4.61,5.17,4.53,5.33,5.14)\n",
    "    trt <- c(4.81,4.17,4.41,3.59,5.87,3.83,6.03,4.89,4.32,4.69)\n",
    "    group <- gl(2, 10, 20, labels = c(\"Ctl\",\"Trt\"))\n",
    "    weight <- c(ctl, trt)\n",
    "\n",
    "    anova(lm.D9 <- lm(weight ~ group))\n",
    "\n",
    "    summary(lm.D90 <- lm(weight ~ group - 1))# omitting intercept"
   ]
  },
  {
   "cell_type": "code",
   "execution_count": 2,
   "metadata": {
    "scrolled": false
   },
   "outputs": [
    {
     "name": "stdout",
     "output_type": "stream",
     "text": [
      "Analysis of Variance Table\n",
      "\n",
      "\n",
      "\n",
      "Response: weight\n",
      "\n",
      "          Df Sum Sq Mean Sq F value Pr(>F)\n",
      "\n",
      "group      1 0.6882 0.68821  1.4191  0.249\n",
      "\n",
      "Residuals 18 8.7292 0.48496               \n",
      "\n",
      "\n",
      "\n",
      "Call:\n",
      "\n",
      "(function (formula, data, subset, weights, na.action, method = \"qr\", \n",
      "\n",
      "    model = TRUE, x = FALSE, y = FALSE, qr = TRUE, singular.ok = TRUE, \n",
      "\n",
      "    contrasts = NULL, offset, ...) \n",
      "\n",
      "{\n",
      "\n",
      "    ret.x <- x\n",
      "\n",
      "    ret.y <- y\n",
      "\n",
      "    cl <- match.call()\n",
      "\n",
      "    mf <- match.call(expand.dots = FALSE)\n",
      "\n",
      "    m <- match(c(\"formula\", \"data\", \"subset\", \"weights\", \"na.action\", \n",
      "\n",
      "        \"offset\"), names(mf), 0L)\n",
      "\n",
      "    mf <- mf[c(1L, m)]\n",
      "\n",
      "    mf$drop.unused.levels <- TRUE\n",
      "\n",
      "    mf[[1L]] <- quote(stats::model.frame)\n",
      "\n",
      "    mf <- eval(mf, parent.frame())\n",
      "\n",
      "    if (method == \"model.frame\") \n",
      "\n",
      "        return(mf)\n",
      "\n",
      "    else if (method != \"qr\") \n",
      "\n",
      "        warning(gettextf(\"method = '%s' is not supported. Using 'qr'\", \n",
      "\n",
      "            method), domain = NA)\n",
      "\n",
      "    mt <- attr(mf, \"terms\")\n",
      "\n",
      "    y <- model.response(mf, \"numeric\")\n",
      "\n",
      "    w <- as.vector(model.weights(mf))\n",
      "\n",
      "    if (!is.null(w) && !is.numeric(w)) \n",
      "\n",
      "        stop(\"'weights' must be a numeric vector\")\n",
      "\n",
      "    offset <- model.offset(mf)\n",
      "\n",
      "    mlm <- is.matrix(y)\n",
      "\n",
      "    ny <- if (mlm) \n",
      "\n",
      "        nrow(y)\n",
      "\n",
      "    else length(y)\n",
      "\n",
      "    if (!is.null(offset)) {\n",
      "\n",
      "        if (!mlm) \n",
      "\n",
      "            offset <- as.vector(offset)\n",
      "\n",
      "        if (NROW(offset) != ny) \n",
      "\n",
      "            stop(gettextf(\"number of offsets is %d, should equal %d (number of observations)\", \n",
      "\n",
      "                NROW(offset), ny), domain = NA)\n",
      "\n",
      "    }\n",
      "\n",
      "    if (is.empty.model(mt)) {\n",
      "\n",
      "        x <- NULL\n",
      "\n",
      "        z <- list(coefficients = if (mlm) matrix(NA_real_, 0, \n",
      "\n",
      "            ncol(y)) else numeric(), residuals = y, fitted.values = 0 * \n",
      "\n",
      "            y, weights = w, rank = 0L, df.residual = if (!is.null(w)) sum(w != \n",
      "\n",
      "            0) else ny)\n",
      "\n",
      "        if (!is.null(offset)) {\n",
      "\n",
      "            z$fitted.values <- offset\n",
      "\n",
      "            z$residuals <- y - offset\n",
      "\n",
      "        }\n",
      "\n",
      "    }\n",
      "\n",
      "    else {\n",
      "\n",
      "        x <- model.matrix(mt, mf, contrasts)\n",
      "\n",
      "        z <- if (is.null(w)) \n",
      "\n",
      "            lm.fit(x, y, offset = offset, singular.ok = singular.ok, \n",
      "\n",
      "                ...)\n",
      "\n",
      "        else lm.wfit(x, y, w, offset = offset, singular.ok = singular.ok, \n",
      "\n",
      "            ...)\n",
      "\n",
      "    }\n",
      "\n",
      "    class(z) <- c(if (mlm) \"mlm\", \"lm\")\n",
      "\n",
      "    z$na.action <- attr(mf, \"na.action\")\n",
      "\n",
      "    z$offset <- offset\n",
      "\n",
      "    z$contrasts <- attr(x, \"contrasts\")\n",
      "\n",
      "    z$xlevels <- .getXlevels(mt, mf)\n",
      "\n",
      "    z$call <- cl\n",
      "\n",
      "    z$terms <- mt\n",
      "\n",
      "    if (model) \n",
      "\n",
      "        z$model <- mf\n",
      "\n",
      "    if (ret.x) \n",
      "\n",
      "        z$x <- x\n",
      "\n",
      "    if (ret.y) \n",
      "\n",
      "        z$y <- y\n",
      "\n",
      "    if (!qr) \n",
      "\n",
      "        z$qr <- NULL\n",
      "\n",
      "    z\n",
      "\n",
      "})(formula = \"weight ~ group - 1\")\n",
      "\n",
      "\n",
      "\n",
      "Residuals:\n",
      "\n",
      "    Min      1Q  Median      3Q     Max \n",
      "\n",
      "-1.0710 -0.4938  0.0685  0.2462  1.3690 \n",
      "\n",
      "\n",
      "\n",
      "Coefficients:\n",
      "\n",
      "         Estimate Std. Error t value Pr(>|t|)    \n",
      "\n",
      "groupCtl   5.0320     0.2202   22.85 9.55e-15 ***\n",
      "\n",
      "groupTrt   4.6610     0.2202   21.16 3.62e-14 ***\n",
      "\n",
      "---\n",
      "\n",
      "Signif. codes:  0 '***' 0.001 '**' 0.01 '*' 0.05 '.' 0.1 ' ' 1\n",
      "\n",
      "\n",
      "\n",
      "Residual standard error: 0.6964 on 18 degrees of freedom\n",
      "\n",
      "Multiple R-squared:  0.9818,\tAdjusted R-squared:  0.9798 \n",
      "\n",
      "F-statistic: 485.1 on 2 and 18 DF,  p-value: < 2.2e-16\n",
      "\n",
      "\n",
      "\n"
     ]
    }
   ],
   "source": [
    "import rpy2.robjects as robjects\n",
    "from rpy2.robjects import FloatVector\n",
    "from rpy2.robjects.packages import importr\n",
    "stats = importr('stats')\n",
    "base = importr('base')\n",
    "\n",
    "ctl = FloatVector([4.17,5.58,5.18,6.11,4.50,4.61,5.17,4.53,5.33,5.14])\n",
    "trt = FloatVector([4.81,4.17,4.41,3.59,5.87,3.83,6.03,4.89,4.32,4.69])\n",
    "group = base.gl(2, 10, 20, labels = ['Ctl','Trt'])\n",
    "weight = ctl + trt\n",
    "\n",
    "robjects.globalenv['weight'] = weight\n",
    "robjects.globalenv['group'] = group\n",
    "lm_D9 = stats.lm('weight ~ group')\n",
    "print(stats.anova(lm_D9))\n",
    "\n",
    "# omitting the intercept\n",
    "lm_D90 = stats.lm('weight ~ group - 1')\n",
    "print(base.summary(lm_D90))"
   ]
  },
  {
   "cell_type": "code",
   "execution_count": 5,
   "metadata": {},
   "outputs": [
    {
     "data": {
      "text/plain": [
       "<rpy2.rinterface.StrSexpVector - Python:0x000002641FF88090 / R:0x00000264219BF930>"
      ]
     },
     "execution_count": 5,
     "metadata": {},
     "output_type": "execute_result"
    }
   ],
   "source": [
    "lm_D9.rclass"
   ]
  },
  {
   "cell_type": "code",
   "execution_count": 7,
   "metadata": {},
   "outputs": [
    {
     "name": "stdout",
     "output_type": "stream",
     "text": [
      " [1] \"coefficients\"  \"residuals\"     \"effects\"       \"rank\"         \n",
      "\r\n",
      " [5] \"fitted.values\" \"assign\"        \"qr\"            \"df.residual\"  \n",
      "\r\n",
      " [9] \"contrasts\"     \"xlevels\"       \"call\"          \"terms\"        \n",
      "\r\n",
      "[13] \"model\"        \n",
      "\n"
     ]
    }
   ],
   "source": [
    "print(lm_D9.names)"
   ]
  },
  {
   "cell_type": "code",
   "execution_count": 13,
   "metadata": {},
   "outputs": [
    {
     "ename": "TypeError",
     "evalue": "'int' object is not iterable",
     "output_type": "error",
     "traceback": [
      "\u001b[1;31m---------------------------------------------------------------------------\u001b[0m",
      "\u001b[1;31mTypeError\u001b[0m                                 Traceback (most recent call last)",
      "\u001b[1;32m<ipython-input-13-45bb087cdced>\u001b[0m in \u001b[0;36m<module>\u001b[1;34m\u001b[0m\n\u001b[0;32m      8\u001b[0m \u001b[0mm\u001b[0m \u001b[1;33m=\u001b[0m \u001b[0mbase\u001b[0m\u001b[1;33m.\u001b[0m\u001b[0mmatrix\u001b[0m\u001b[1;33m(\u001b[0m\u001b[0mNA_Real\u001b[0m\u001b[1;33m,\u001b[0m \u001b[0mnrow\u001b[0m\u001b[1;33m=\u001b[0m\u001b[1;36m100\u001b[0m\u001b[1;33m,\u001b[0m \u001b[0mncol\u001b[0m\u001b[1;33m=\u001b[0m\u001b[1;36m10\u001b[0m\u001b[1;33m)\u001b[0m\u001b[1;33m\u001b[0m\u001b[1;33m\u001b[0m\u001b[0m\n\u001b[0;32m      9\u001b[0m \u001b[1;33m\u001b[0m\u001b[0m\n\u001b[1;32m---> 10\u001b[1;33m \u001b[0mm\u001b[0m\u001b[1;33m.\u001b[0m\u001b[0mrx\u001b[0m\u001b[1;33m[\u001b[0m\u001b[1;36m0\u001b[0m\u001b[1;33m]\u001b[0m\u001b[1;33m\u001b[0m\u001b[1;33m\u001b[0m\u001b[0m\n\u001b[0m",
      "\u001b[1;32mC:\\ProgramData\\Anaconda3\\lib\\site-packages\\rpy2\\robjects\\vectors.py\u001b[0m in \u001b[0;36m__getitem__\u001b[1;34m(self, item)\u001b[0m\n\u001b[0;32m     78\u001b[0m     \u001b[1;32mdef\u001b[0m \u001b[0m__getitem__\u001b[0m\u001b[1;33m(\u001b[0m\u001b[0mself\u001b[0m\u001b[1;33m,\u001b[0m \u001b[0mitem\u001b[0m\u001b[1;33m)\u001b[0m\u001b[1;33m:\u001b[0m\u001b[1;33m\u001b[0m\u001b[1;33m\u001b[0m\u001b[0m\n\u001b[0;32m     79\u001b[0m         \u001b[0mfun\u001b[0m \u001b[1;33m=\u001b[0m \u001b[0mself\u001b[0m\u001b[1;33m.\u001b[0m\u001b[0m_extractfunction\u001b[0m\u001b[1;33m\u001b[0m\u001b[1;33m\u001b[0m\u001b[0m\n\u001b[1;32m---> 80\u001b[1;33m         \u001b[0margs\u001b[0m \u001b[1;33m=\u001b[0m \u001b[0mrlc\u001b[0m\u001b[1;33m.\u001b[0m\u001b[0mTaggedList\u001b[0m\u001b[1;33m(\u001b[0m\u001b[0mitem\u001b[0m\u001b[1;33m)\u001b[0m\u001b[1;33m\u001b[0m\u001b[1;33m\u001b[0m\u001b[0m\n\u001b[0m\u001b[0;32m     81\u001b[0m         \u001b[1;32mfor\u001b[0m \u001b[0mi\u001b[0m\u001b[1;33m,\u001b[0m \u001b[1;33m(\u001b[0m\u001b[0mk\u001b[0m\u001b[1;33m,\u001b[0m \u001b[0mv\u001b[0m\u001b[1;33m)\u001b[0m \u001b[1;32min\u001b[0m \u001b[0menumerate\u001b[0m\u001b[1;33m(\u001b[0m\u001b[0margs\u001b[0m\u001b[1;33m.\u001b[0m\u001b[0mitems\u001b[0m\u001b[1;33m(\u001b[0m\u001b[1;33m)\u001b[0m\u001b[1;33m)\u001b[0m\u001b[1;33m:\u001b[0m\u001b[1;33m\u001b[0m\u001b[1;33m\u001b[0m\u001b[0m\n\u001b[0;32m     82\u001b[0m             \u001b[1;32mif\u001b[0m \u001b[0mv\u001b[0m \u001b[1;32mis\u001b[0m \u001b[0mMissingArg\u001b[0m\u001b[1;33m:\u001b[0m\u001b[1;33m\u001b[0m\u001b[1;33m\u001b[0m\u001b[0m\n",
      "\u001b[1;32mC:\\ProgramData\\Anaconda3\\lib\\site-packages\\rpy2\\rlike\\container.py\u001b[0m in \u001b[0;36m__init__\u001b[1;34m(self, seq, tags)\u001b[0m\n\u001b[0;32m    179\u001b[0m \u001b[1;33m\u001b[0m\u001b[0m\n\u001b[0;32m    180\u001b[0m     \u001b[1;32mdef\u001b[0m \u001b[0m__init__\u001b[0m\u001b[1;33m(\u001b[0m\u001b[0mself\u001b[0m\u001b[1;33m,\u001b[0m \u001b[0mseq\u001b[0m\u001b[1;33m,\u001b[0m \u001b[0mtags\u001b[0m \u001b[1;33m=\u001b[0m \u001b[1;32mNone\u001b[0m\u001b[1;33m)\u001b[0m\u001b[1;33m:\u001b[0m\u001b[1;33m\u001b[0m\u001b[1;33m\u001b[0m\u001b[0m\n\u001b[1;32m--> 181\u001b[1;33m         \u001b[0msuper\u001b[0m\u001b[1;33m(\u001b[0m\u001b[0mTaggedList\u001b[0m\u001b[1;33m,\u001b[0m \u001b[0mself\u001b[0m\u001b[1;33m)\u001b[0m\u001b[1;33m.\u001b[0m\u001b[0m__init__\u001b[0m\u001b[1;33m(\u001b[0m\u001b[0mseq\u001b[0m\u001b[1;33m)\u001b[0m\u001b[1;33m\u001b[0m\u001b[1;33m\u001b[0m\u001b[0m\n\u001b[0m\u001b[0;32m    182\u001b[0m         \u001b[1;32mif\u001b[0m \u001b[0mtags\u001b[0m \u001b[1;32mis\u001b[0m \u001b[1;32mNone\u001b[0m\u001b[1;33m:\u001b[0m\u001b[1;33m\u001b[0m\u001b[1;33m\u001b[0m\u001b[0m\n\u001b[0;32m    183\u001b[0m             \u001b[0mtags\u001b[0m \u001b[1;33m=\u001b[0m \u001b[1;33m[\u001b[0m\u001b[1;32mNone\u001b[0m\u001b[1;33m,\u001b[0m \u001b[1;33m]\u001b[0m \u001b[1;33m*\u001b[0m \u001b[0mlen\u001b[0m\u001b[1;33m(\u001b[0m\u001b[0mseq\u001b[0m\u001b[1;33m)\u001b[0m\u001b[1;33m\u001b[0m\u001b[1;33m\u001b[0m\u001b[0m\n",
      "\u001b[1;31mTypeError\u001b[0m: 'int' object is not iterable"
     ]
    }
   ],
   "source": [
    "from rpy2.robjects import NA_Real\n",
    "from rpy2.rlike.container import TaggedList\n",
    "from rpy2.robjects.packages import importr\n",
    "\n",
    "base = importr('base')\n",
    "\n",
    "# create a numerical matrix of size 100x10 filled with NAs\n",
    "m = base.matrix(NA_Real, nrow=100, ncol=10)\n",
    "\n",
    "# fill the matrix\n",
    "for row_i in range(1, 100+1):\n",
    "    for col_i in range(1, 10+1):\n",
    "        m.rx[TaggedList((row_i, ), (col_i, ))] = row_i + col_i * 100"
   ]
  },
  {
   "cell_type": "markdown",
   "metadata": {},
   "source": [
    "Setup notebook"
   ]
  },
  {
   "cell_type": "code",
   "execution_count": 21,
   "metadata": {},
   "outputs": [],
   "source": [
    "from functools import partial\n",
    "from rpy2.ipython import html\n",
    "html.html_rdataframe=partial(html.html_rdataframe, table_class=\"docutils\")"
   ]
  },
  {
   "cell_type": "code",
   "execution_count": 23,
   "metadata": {},
   "outputs": [],
   "source": [
    "from rpy2.robjects.packages import importr\n",
    "utils = importr('utils')\n",
    "\n",
    "dataf = utils.read_csv('https://raw.githubusercontent.com/jakevdp/PythonDataScienceHandbook/'\n",
    "                       'master/notebooks/data/california_cities.csv')"
   ]
  },
  {
   "cell_type": "code",
   "execution_count": 24,
   "metadata": {},
   "outputs": [
    {
     "data": {
      "text/html": [
       "\n",
       "<emph>DataFrame</emph> with 482 rows and 14 columns:\n",
       "<table class=\"docutils\">\n",
       "  <thead>\n",
       "    <tr class=\"rpy2_names\">\n",
       "      <th></th>\n",
       "      <th></th>\n",
       "      <th>X</th>\n",
       "      <th>city</th>\n",
       "      <th>latd</th>\n",
       "      <th>longd</th>\n",
       "      <th>...</th>\n",
       "      <th>area_water_km2</th>\n",
       "      <th>area_water_percent</th>\n",
       "    </tr>\n",
       "  </thead>\n",
       "  <tbody>\n",
       "    <tr>\n",
       "      <td class=\"rpy2_rowname\">0</td>\n",
       "        <td class=\"rpy2_names\">1</td>\n",
       "      <td>0</td>\n",
       "      <td>Adelanto</td>\n",
       "      <td>34.57611111111112</td>\n",
       "      <td>-117.43277777777779</td>\n",
       "       <td>...</td>\n",
       "      <td>0.046</td>\n",
       "      <td>0.03</td>\n",
       "    </tr>\n",
       "    <tr>\n",
       "      <td class=\"rpy2_rowname\">1</td>\n",
       "        <td class=\"rpy2_names\">2</td>\n",
       "      <td>1</td>\n",
       "      <td>AgouraHills</td>\n",
       "      <td>34.15333333333333</td>\n",
       "      <td>-118.76166666666667</td>\n",
       "       <td>...</td>\n",
       "      <td>0.076</td>\n",
       "      <td>0.37</td>\n",
       "    </tr>\n",
       "    <tr>\n",
       "      <td class=\"rpy2_rowname\">2</td>\n",
       "        <td class=\"rpy2_names\">3</td>\n",
       "      <td>2</td>\n",
       "      <td>Alameda</td>\n",
       "      <td>37.75611111111111</td>\n",
       "      <td>-122.27444444444444</td>\n",
       "       <td>...</td>\n",
       "      <td>31.983</td>\n",
       "      <td>53.79</td>\n",
       "    </tr>\n",
       "    <tr>\n",
       "      <td class=\"rpy2_rowname\">3</td>\n",
       "        <td class=\"rpy2_names\">4</td>\n",
       "      <td>3</td>\n",
       "      <td>Albany</td>\n",
       "      <td>37.886944444444445</td>\n",
       "      <td>-122.29777777777778</td>\n",
       "       <td>...</td>\n",
       "      <td>9.524</td>\n",
       "      <td>67.28</td>\n",
       "    </tr>\n",
       "    <tr>\n",
       "      <td class=\"rpy2_rowname\">4</td>\n",
       "        <td class=\"rpy2_names\">5</td>\n",
       "      <td>4</td>\n",
       "      <td>Alhambra</td>\n",
       "      <td>34.081944444444446</td>\n",
       "      <td>-118.135</td>\n",
       "       <td>...</td>\n",
       "      <td>0.003</td>\n",
       "      <td>0.01</td>\n",
       "    </tr>\n",
       "    <tr>\n",
       "      <td class=\"rpy2_rowname\">5</td>\n",
       "        <td class=\"rpy2_names\">6</td>\n",
       "      <td>5</td>\n",
       "      <td>AlisoViejo</td>\n",
       "      <td>33.575</td>\n",
       "      <td>-117.72555555555556</td>\n",
       "       <td>...</td>\n",
       "      <td>0.0</td>\n",
       "      <td>0.0</td>\n",
       "    </tr>\n",
       "    <tr>\n",
       "      <td class=\"rpy2_rowname\">6</td>\n",
       "        <td class=\"rpy2_names\">7</td>\n",
       "      <td>6</td>\n",
       "      <td>Alturas</td>\n",
       "      <td>41.48722222222222</td>\n",
       "      <td>-120.5425</td>\n",
       "       <td>...</td>\n",
       "      <td>0.036000000000000004</td>\n",
       "      <td>0.57</td>\n",
       "    </tr>\n",
       "    <tr>\n",
       "      <td class=\"rpy2_rowname\">7</td>\n",
       "        <td class=\"rpy2_names\">8</td>\n",
       "      <td>7</td>\n",
       "      <td>AmadorCity</td>\n",
       "      <td>38.419444444444444</td>\n",
       "      <td>-120.82416666666666</td>\n",
       "       <td>...</td>\n",
       "      <td>0.0</td>\n",
       "      <td>0.0</td>\n",
       "    </tr>\n",
       "    <tr>\n",
       "      <td class=\"rpy2_rowname\">...</td>\n",
       "        <td class=\"rpy2_names\">...</td>\n",
       "      <td>...</td>\n",
       "      <td>...</td>\n",
       "      <td>...</td>\n",
       "      <td>...</td>\n",
       "       <td>...</td>\n",
       "      <td>...</td>\n",
       "      <td>...</td>\n",
       "    </tr>\n",
       "    <tr>\n",
       "      <td class=\"rpy2_rowname\">480</td>\n",
       "        <td class=\"rpy2_names\">481</td>\n",
       "      <td>480</td>\n",
       "      <td>Yucaipa</td>\n",
       "      <td>34.030277777777776</td>\n",
       "      <td>-117.04861111111111</td>\n",
       "       <td>...</td>\n",
       "      <td>0.013000000000000001</td>\n",
       "      <td>0.02</td>\n",
       "    </tr>\n",
       "    <tr>\n",
       "      <td class=\"rpy2_rowname\">481</td>\n",
       "        <td class=\"rpy2_names\">482</td>\n",
       "      <td>481</td>\n",
       "      <td>YuccaValley</td>\n",
       "      <td>34.13333333333333</td>\n",
       "      <td>-116.41666666666667</td>\n",
       "       <td>...</td>\n",
       "      <td>0.0</td>\n",
       "      <td>0.0</td>\n",
       "    </tr>\n",
       "  </tbody>\n",
       "</table>"
      ],
      "text/plain": [
       "R object with classes: ('data.frame',) mapped to:\n",
       "<DataFrame - Python:0x0000026426B97748 / R:0x0000026426C55ED8>\n",
       "[IntVector, FactorVec..., FloatVector, FloatVector, ..., FloatVector, FloatVector, FloatVector, FloatVector]\n",
       "  X: <class 'rpy2.robjects.vectors.IntVector'>\n",
       "  R object with classes: ('integer',) mapped to:\n",
       "<IntVector - Python:0x0000026426A99208 / R:0x0000026426D29D10>\n",
       "[0, 1, 2, 3, ..., 478, 479, 480, 481]\n",
       "  city: <class 'rpy2.robjects.vectors.FactorVector'>\n",
       "  R object with classes: ('factor',) mapped to:\n",
       "<FactorVector - Python:0x0000026426A98A48 / R:0x0000026426D2B508>\n",
       "[Adela..., Agour..., Alameda, Albany, ..., Yreka, YubaC..., Yucaipa, Yucca...]\n",
       "  latd: <class 'rpy2.robjects.vectors.FloatVector'>\n",
       "  R object with classes: ('numeric',) mapped to:\n",
       "<FloatVector - Python:0x0000026426A94F08 / R:0x0000026426D72608>\n",
       "[34.576111, 34.153333, 37.756111, 37.886944, ..., 41.726667, 39.134722, 34.030278, 34.133333]\n",
       "  longd: <class 'rpy2.robjects.vectors.FloatVector'>\n",
       "  R object with classes: ('numeric',) mapped to:\n",
       "<FloatVector - Python:0x0000026426A94948 / R:0x0000026426D73550>\n",
       "[-117.432778, -118.761667, -122.274444, -122.297778, ..., -122.637500, -121.626111, -117.048611, -116.416667]\n",
       "...\n",
       "  elevation_ft: <class 'rpy2.robjects.vectors.FloatVector'>\n",
       "  R object with classes: ('numeric',) mapped to:\n",
       "<FloatVector - Python:0x0000026426A90188 / R:0x0000026426D798C0>\n",
       "[145.107000, 20.260000, 59.465000, 14.155000, ..., 26.036000, 37.959000, 72.244000, 103.639000]\n",
       "  population_total: <class 'rpy2.robjects.vectors.FloatVector'>\n",
       "  R object with classes: ('numeric',) mapped to:\n",
       "<FloatVector - Python:0x0000026426A90988 / R:0x0000026426D7A808>\n",
       "[145.062000, 20.184000, 27.482000, 4.632000, ..., 25.847000, 37.758000, 72.231000, 103.639000]\n",
       "  area_total_sq_mi: <class 'rpy2.robjects.vectors.FloatVector'>\n",
       "  R object with classes: ('numeric',) mapped to:\n",
       "<FloatVector - Python:0x0000026426A80648 / R:0x0000026426D7B750>\n",
       "[0.046000, 0.076000, 31.983000, 9.524000, ..., 0.188000, 0.201000, 0.013000, 0.000000]\n",
       "  area_land_sq_mi: <class 'rpy2.robjects.vectors.FloatVector'>\n",
       "  R object with classes: ('numeric',) mapped to:\n",
       "<FloatVector - Python:0x0000026426A80F08 / R:0x0000026426D7C698>\n",
       "[0.030000, 0.370000, 53.790000, 67.280000, ..., 0.720000, 0.530000, 0.020000, 0.000000]"
      ]
     },
     "execution_count": 24,
     "metadata": {},
     "output_type": "execute_result"
    }
   ],
   "source": [
    "import rpy2.ipython.html\n",
    "rpy2.ipython.html.init_printing()\n",
    "dataf"
   ]
  },
  {
   "cell_type": "code",
   "execution_count": 33,
   "metadata": {
    "scrolled": false
   },
   "outputs": [
    {
     "data": {
      "text/html": [
       "\n",
       "<emph>FloatVector</emph> with 3 elements:\n",
       "<table class=\"rpy2_table\">\n",
       "<thead>\n",
       "</thead>\n",
       "<tbody>\n",
       "<tr>\n",
       "  <td>16206.30871116903</td>\n",
       "      <td>172.50868495534922</td>\n",
       "      <td>185.73263719825692</td>\n",
       "</tr>\n",
       "</tbody>\n",
       "</table>"
      ],
      "text/plain": [
       "R object with classes: ('numeric',) mapped to:\n",
       "<FloatVector - Python:0x000002641FB3FB08 / R:0x0000026424508BA0>\n",
       "[16206.308711, 172.508685, 185.732637]"
      ]
     },
     "execution_count": 33,
     "metadata": {},
     "output_type": "execute_result"
    }
   ],
   "source": [
    "stats = importr('stats')\n",
    "base = importr('base')\n",
    "clf = stats.lm('elevation_m ~ latd + longd', data=dataf)\n",
    "clf[0]"
   ]
  },
  {
   "cell_type": "code",
   "execution_count": 38,
   "metadata": {},
   "outputs": [
    {
     "ename": "ImportError",
     "evalue": "cannot import name 'rl' from 'rpy2.robjects' (C:\\ProgramData\\Anaconda3\\lib\\site-packages\\rpy2\\robjects\\__init__.py)",
     "output_type": "error",
     "traceback": [
      "\u001b[1;31m---------------------------------------------------------------------------\u001b[0m",
      "\u001b[1;31mImportError\u001b[0m                               Traceback (most recent call last)",
      "\u001b[1;32m<ipython-input-38-f32b48e1ad06>\u001b[0m in \u001b[0;36m<module>\u001b[1;34m\u001b[0m\n\u001b[0;32m      2\u001b[0m \u001b[1;32mfrom\u001b[0m \u001b[0mrpy2\u001b[0m\u001b[1;33m.\u001b[0m\u001b[0mipython\u001b[0m\u001b[1;33m.\u001b[0m\u001b[0mggplot\u001b[0m \u001b[1;32mimport\u001b[0m \u001b[0mimage_png\u001b[0m\u001b[1;33m\u001b[0m\u001b[1;33m\u001b[0m\u001b[0m\n\u001b[0;32m      3\u001b[0m \u001b[1;32mfrom\u001b[0m \u001b[0mrpy2\u001b[0m\u001b[1;33m.\u001b[0m\u001b[0mrobjects\u001b[0m\u001b[1;33m.\u001b[0m\u001b[0mvectors\u001b[0m \u001b[1;32mimport\u001b[0m \u001b[0mIntVector\u001b[0m\u001b[1;33m\u001b[0m\u001b[1;33m\u001b[0m\u001b[0m\n\u001b[1;32m----> 4\u001b[1;33m \u001b[1;32mfrom\u001b[0m \u001b[0mrpy2\u001b[0m\u001b[1;33m.\u001b[0m\u001b[0mrobjects\u001b[0m \u001b[1;32mimport\u001b[0m \u001b[0mrl\u001b[0m\u001b[1;33m\u001b[0m\u001b[1;33m\u001b[0m\u001b[0m\n\u001b[0m\u001b[0;32m      5\u001b[0m \u001b[1;33m\u001b[0m\u001b[0m\n\u001b[0;32m      6\u001b[0m p = (gp.ggplot(dataf) +\n",
      "\u001b[1;31mImportError\u001b[0m: cannot import name 'rl' from 'rpy2.robjects' (C:\\ProgramData\\Anaconda3\\lib\\site-packages\\rpy2\\robjects\\__init__.py)"
     ]
    }
   ],
   "source": [
    "import rpy2.robjects.lib.ggplot2 as gp\n",
    "from rpy2.ipython.ggplot import image_png\n",
    "from rpy2.robjects.vectors import IntVector\n",
    "from rpy2.robjects import rl\n",
    "\n",
    "p = (gp.ggplot(dataf) +\n",
    "     gp.aes(x=r1('longd'),\n",
    "            y=r1('latd'),\n",
    "            color=r1('population_total'),\n",
    "            size=r1('area_total_km2')) +\n",
    "     gp.geom_point(alpha=0.5) +\n",
    "     # Axis definitions.\n",
    "     gp.scale_x_continuous('Longitude') +\n",
    "     gp.scale_y_continuous('Latitude') +\n",
    "     # Custom size range.\n",
    "     gp.scale_size(range=IntVector([1, 18])) +\n",
    "     # Transform for pop -> color mapping\n",
    "     gp.scale_color_continuous(trans='log10') +\n",
    "     # Title.\n",
    "     gp.ggtitle('California Cities: Area and Population') +\n",
    "     # Plot theme and text size.\n",
    "     gp.theme_light(base_size=16))\n",
    "image_png(p)"
   ]
  },
  {
   "cell_type": "markdown",
   "metadata": {},
   "source": [
    "Run script"
   ]
  },
  {
   "cell_type": "code",
   "execution_count": null,
   "metadata": {},
   "outputs": [],
   "source": [
    "r = robjects.r"
   ]
  },
  {
   "cell_type": "code",
   "execution_count": null,
   "metadata": {},
   "outputs": [],
   "source": [
    "r['source']('preprocess.R')# Loading the function we have defined in R.\n",
    "filter_country_function_r = robjects.globalenv['filter_country']# Reading and processing data\n",
    "df = pd.read_csv(\"Country-Sales.csv\")#converting it into r object for passing into r function\n",
    "df_r = pandas2ri.ri2py(df)\n",
    "#Invoking the R function and getting the result\n",
    "df_result_r = filter_country_function_r(df_r, 'USA')\n",
    "#Converting it back to a pandas dataframe.\n",
    "df_result = pandas2ri.py2ri(df_result_r)"
   ]
  }
 ],
 "metadata": {
  "kernelspec": {
   "display_name": "Python 3 (ipykernel)",
   "language": "python",
   "name": "python3"
  },
  "language_info": {
   "codemirror_mode": {
    "name": "ipython",
    "version": 3
   },
   "file_extension": ".py",
   "mimetype": "text/x-python",
   "name": "python",
   "nbconvert_exporter": "python",
   "pygments_lexer": "ipython3",
   "version": "3.9.12"
  }
 },
 "nbformat": 4,
 "nbformat_minor": 2
}
